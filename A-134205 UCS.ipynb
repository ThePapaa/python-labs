{
 "cells": [
  {
   "cell_type": "code",
   "execution_count": 20,
   "metadata": {},
   "outputs": [
    {
     "name": "stdout",
     "output_type": "stream",
     "text": [
      "{'A': {'D': 43, 'O': 151}, 'B': {'G': 171}, 'C': {'B': 171, 'D': 126}, 'D': {'F': 111, 'M': 200, 'O': 136}, 'E': {'A': 133, 'L': 110}, 'F': {'H': 130, 'G': 88}, 'G': {'C': 140, 'D': 123, 'H': 99}, 'H': {'N': 80}, 'I': {'C': 102, 'A': 109}, 'J': {'E': 105, 'I': 172, 'K': 146}, 'K': {'E': 146, 'L': 152}, 'L': {'O': 97}, 'M': {'N': 67}, 'N': {}, 'O': {'M': 100}}\n"
     ]
    }
   ],
   "source": [
    "graph ={}\n",
    "\n",
    "graph[\"A\"]= {}\n",
    "graph[\"A\"][\"D\"]=43\n",
    "graph[\"A\"][\"O\"]=151\n",
    " \n",
    "graph[\"B\"]={}\n",
    "graph[\"B\"][\"G\"]=171\n",
    " \n",
    "graph[\"C\"] = {}\n",
    "graph[\"C\"][\"B\"] = 171\n",
    "graph[\"C\"][\"D\"] = 126\n",
    "\n",
    "graph[\"D\"] = {}\n",
    "graph[\"D\"][\"F\"] = 111\n",
    "graph[\"D\"][\"M\"] = 200\n",
    "graph[\"D\"][\"O\"] = 136\n",
    "\n",
    "graph[\"E\"] = {}\n",
    "graph[\"E\"][\"A\"] = 133\n",
    "graph[\"E\"][\"L\"] = 110\n",
    "\n",
    "graph[\"F\"] = {}\n",
    "graph[\"F\"][\"H\"] = 130\n",
    "graph[\"F\"][\"G\"] = 88\n",
    "\n",
    "graph[\"G\"] = {}\n",
    "graph[\"G\"][\"C\"] = 140\n",
    "graph[\"G\"][\"D\"] = 123\n",
    "graph[\"G\"][\"H\"] = 99\n",
    "\n",
    "graph[\"H\"] = {}\n",
    "graph[\"H\"][\"N\"] = 80\n",
    "\n",
    "graph[\"I\"] = {}\n",
    "graph[\"I\"][\"C\"] = 102\n",
    "graph[\"I\"][\"A\"] = 109\n",
    "\n",
    "graph[\"J\"] = {}\n",
    "graph[\"J\"][\"E\"] = 105\n",
    "graph[\"J\"][\"I\"] = 172\n",
    "graph[\"J\"][\"K\"] = 146\n",
    "\n",
    "graph[\"K\"] = {}\n",
    "graph[\"K\"][\"E\"] = 146\n",
    "graph[\"K\"][\"L\"] = 152\n",
    "\n",
    "graph[\"L\"] = {}\n",
    "graph[\"L\"][\"O\"] = 97\n",
    "\n",
    "graph[\"M\"] = {}\n",
    "graph[\"M\"][\"N\"] = 67\n",
    "\n",
    "graph[\"N\"] = {}\n",
    "\n",
    "graph[\"O\"] = {}\n",
    "graph[\"O\"][\"M\"] = 100\n",
    "\n"
   ]
  },
  {
   "cell_type": "code",
   "execution_count": null,
   "metadata": {},
   "outputs": [],
   "source": [
    "\n",
    "def find_by_UCS(goal,start):\n",
    "    answer  = []\n",
    "    queue = []\n",
    "\n",
    "    if (goal == start):\n",
    "        print('The traversal was immediate since start node is the goal node'+[goal] )\n",
    " \n"
   ]
  },
  {
   "cell_type": "code",
   "execution_count": null,
   "metadata": {},
   "outputs": [],
   "source": []
  }
 ],
 "metadata": {
  "kernelspec": {
   "display_name": "Python 3.10.6 64-bit",
   "language": "python",
   "name": "python3"
  },
  "language_info": {
   "codemirror_mode": {
    "name": "ipython",
    "version": 3
   },
   "file_extension": ".py",
   "mimetype": "text/x-python",
   "name": "python",
   "nbconvert_exporter": "python",
   "pygments_lexer": "ipython3",
   "version": "3.10.6"
  },
  "orig_nbformat": 4,
  "vscode": {
   "interpreter": {
    "hash": "55105d4b3a20a9d86acf981300221e9b42d45ff1b54a5f3bb34aa360c291dca9"
   }
  }
 },
 "nbformat": 4,
 "nbformat_minor": 2
}
