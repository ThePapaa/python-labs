{
  "cells": [
    {
      "cell_type": "code",
      "execution_count": 2,
      "metadata": {
        "colab": {
          "base_uri": "https://localhost:8080/",
          "height": 206
        },
        "id": "zl8mbAnLoG0V",
        "outputId": "e6cb3d56-84ea-43f7-86a2-9a156045dd2b"
      },
      "outputs": [
        {
          "data": {
            "text/html": [
              "<div>\n",
              "<style scoped>\n",
              "    .dataframe tbody tr th:only-of-type {\n",
              "        vertical-align: middle;\n",
              "    }\n",
              "\n",
              "    .dataframe tbody tr th {\n",
              "        vertical-align: top;\n",
              "    }\n",
              "\n",
              "    .dataframe thead th {\n",
              "        text-align: right;\n",
              "    }\n",
              "</style>\n",
              "<table border=\"1\" class=\"dataframe\">\n",
              "  <thead>\n",
              "    <tr style=\"text-align: right;\">\n",
              "      <th></th>\n",
              "      <th>gender</th>\n",
              "      <th>age</th>\n",
              "      <th>hypertension</th>\n",
              "      <th>heart_disease</th>\n",
              "      <th>ever_married</th>\n",
              "      <th>work_type</th>\n",
              "      <th>Residence_type</th>\n",
              "      <th>avg_glucose_level</th>\n",
              "      <th>bmi</th>\n",
              "      <th>smoking_status</th>\n",
              "      <th>stroke</th>\n",
              "    </tr>\n",
              "  </thead>\n",
              "  <tbody>\n",
              "    <tr>\n",
              "      <th>0</th>\n",
              "      <td>Female</td>\n",
              "      <td>42.0</td>\n",
              "      <td>0.0</td>\n",
              "      <td>0.0</td>\n",
              "      <td>Yes</td>\n",
              "      <td>Private</td>\n",
              "      <td>Rural</td>\n",
              "      <td>84.60</td>\n",
              "      <td>27.0</td>\n",
              "      <td>smokes</td>\n",
              "      <td>0</td>\n",
              "    </tr>\n",
              "    <tr>\n",
              "      <th>1</th>\n",
              "      <td>Male</td>\n",
              "      <td>77.0</td>\n",
              "      <td>0.0</td>\n",
              "      <td>0.0</td>\n",
              "      <td>Yes</td>\n",
              "      <td>Private</td>\n",
              "      <td>Urban</td>\n",
              "      <td>94.68</td>\n",
              "      <td>33.6</td>\n",
              "      <td>Unknown</td>\n",
              "      <td>0</td>\n",
              "    </tr>\n",
              "    <tr>\n",
              "      <th>2</th>\n",
              "      <td>Female</td>\n",
              "      <td>57.0</td>\n",
              "      <td>0.0</td>\n",
              "      <td>0.0</td>\n",
              "      <td>Yes</td>\n",
              "      <td>Govt_job</td>\n",
              "      <td>Urban</td>\n",
              "      <td>110.52</td>\n",
              "      <td>28.5</td>\n",
              "      <td>Unknown</td>\n",
              "      <td>1</td>\n",
              "    </tr>\n",
              "    <tr>\n",
              "      <th>3</th>\n",
              "      <td>Male</td>\n",
              "      <td>8.0</td>\n",
              "      <td>0.0</td>\n",
              "      <td>0.0</td>\n",
              "      <td>No</td>\n",
              "      <td>children</td>\n",
              "      <td>Urban</td>\n",
              "      <td>118.66</td>\n",
              "      <td>16.1</td>\n",
              "      <td>Unknown</td>\n",
              "      <td>0</td>\n",
              "    </tr>\n",
              "    <tr>\n",
              "      <th>4</th>\n",
              "      <td>Female</td>\n",
              "      <td>66.0</td>\n",
              "      <td>0.0</td>\n",
              "      <td>0.0</td>\n",
              "      <td>Yes</td>\n",
              "      <td>Self-employed</td>\n",
              "      <td>Urban</td>\n",
              "      <td>101.45</td>\n",
              "      <td>29.3</td>\n",
              "      <td>Unknown</td>\n",
              "      <td>1</td>\n",
              "    </tr>\n",
              "  </tbody>\n",
              "</table>\n",
              "</div>"
            ],
            "text/plain": [
              "   gender   age  hypertension  heart_disease ever_married      work_type  \\\n",
              "0  Female  42.0           0.0            0.0          Yes        Private   \n",
              "1    Male  77.0           0.0            0.0          Yes        Private   \n",
              "2  Female  57.0           0.0            0.0          Yes       Govt_job   \n",
              "3    Male   8.0           0.0            0.0           No       children   \n",
              "4  Female  66.0           0.0            0.0          Yes  Self-employed   \n",
              "\n",
              "  Residence_type  avg_glucose_level   bmi smoking_status  stroke  \n",
              "0          Rural              84.60  27.0         smokes       0  \n",
              "1          Urban              94.68  33.6        Unknown       0  \n",
              "2          Urban             110.52  28.5        Unknown       1  \n",
              "3          Urban             118.66  16.1        Unknown       0  \n",
              "4          Urban             101.45  29.3        Unknown       1  "
            ]
          },
          "execution_count": 2,
          "metadata": {},
          "output_type": "execute_result"
        }
      ],
      "source": [
        "import pandas as pd\n",
        "\n",
        "df_main=pd.read_csv('data.csv')\n",
        "\n",
        "df1=df_main.copy()\n",
        "df1.head(5)\n"
      ]
    },
    {
      "cell_type": "code",
      "execution_count": 3,
      "metadata": {
        "colab": {
          "base_uri": "https://localhost:8080/"
        },
        "id": "eUytAiSTq-mx",
        "outputId": "59683f4a-d414-45cd-df90-f2e6925056bf"
      },
      "outputs": [
        {
          "name": "stdout",
          "output_type": "stream",
          "text": [
            "gender                  2\n",
            "age                   104\n",
            "hypertension            2\n",
            "heart_disease           2\n",
            "ever_married            2\n",
            "work_type               4\n",
            "Residence_type          2\n",
            "avg_glucose_level    3889\n",
            "bmi                   342\n",
            "smoking_status          4\n",
            "stroke                  2\n",
            "dtype: int64\n",
            "------------------------------------------------------------------------------------------------------------------------\n",
            "gender                object\n",
            "age                  float64\n",
            "hypertension         float64\n",
            "heart_disease        float64\n",
            "ever_married          object\n",
            "work_type             object\n",
            "Residence_type        object\n",
            "avg_glucose_level    float64\n",
            "bmi                  float64\n",
            "smoking_status        object\n",
            "stroke                 int64\n",
            "dtype: object\n",
            "------------------------------------------------------------------------------------------------------------------------\n",
            "gender                3\n",
            "age                   1\n",
            "hypertension          9\n",
            "heart_disease        13\n",
            "ever_married          4\n",
            "work_type            23\n",
            "Residence_type       16\n",
            "avg_glucose_level    10\n",
            "bmi                   0\n",
            "smoking_status        6\n",
            "stroke                0\n",
            "dtype: int64\n",
            "------------------------------------------------------------------------------------------------------------------------\n",
            "(4981, 11)\n"
          ]
        }
      ],
      "source": [
        "print(df1.nunique())\n",
        "print('------'*20)\n",
        "\n",
        "print(df1.dtypes)\n",
        "print('------'*20)\n",
        "\n",
        "print(df1.isnull().sum())\n",
        "print('------'*20)\n",
        "\n",
        "print(df1.shape)"
      ]
    },
    {
      "cell_type": "code",
      "execution_count": 4,
      "metadata": {
        "colab": {
          "base_uri": "https://localhost:8080/"
        },
        "id": "tzzxNMRSs0Ob",
        "outputId": "72536226-ebd2-4656-f6d0-ad129e8006ea"
      },
      "outputs": [
        {
          "name": "stdout",
          "output_type": "stream",
          "text": [
            "(4981, 11)\n",
            "(4906, 11)\n"
          ]
        }
      ],
      "source": [
        "print(df1.shape)\n",
        "\n",
        "df1.dropna(inplace=True)\n",
        "\n",
        "print(df1.shape)"
      ]
    },
    {
      "cell_type": "code",
      "execution_count": 5,
      "metadata": {
        "colab": {
          "base_uri": "https://localhost:8080/"
        },
        "id": "g-ruz_rbtibu",
        "outputId": "4135b185-697e-4ecb-fb29-f02920fc7c6e"
      },
      "outputs": [
        {
          "name": "stdout",
          "output_type": "stream",
          "text": [
            "gender               0\n",
            "age                  0\n",
            "hypertension         0\n",
            "heart_disease        0\n",
            "ever_married         0\n",
            "work_type            0\n",
            "Residence_type       0\n",
            "avg_glucose_level    0\n",
            "bmi                  0\n",
            "smoking_status       0\n",
            "stroke               0\n",
            "dtype: int64\n"
          ]
        }
      ],
      "source": [
        "print(df1.isnull().sum())"
      ]
    },
    {
      "cell_type": "code",
      "execution_count": 6,
      "metadata": {
        "colab": {
          "base_uri": "https://localhost:8080/"
        },
        "id": "aHI69BGZtsbG",
        "outputId": "cfcab31b-0a5a-4ef6-cdd5-0992c4822921"
      },
      "outputs": [
        {
          "name": "stdout",
          "output_type": "stream",
          "text": [
            "gender                object\n",
            "age                  float64\n",
            "hypertension         float64\n",
            "heart_disease        float64\n",
            "ever_married          object\n",
            "work_type             object\n",
            "Residence_type        object\n",
            "avg_glucose_level    float64\n",
            "bmi                  float64\n",
            "smoking_status        object\n",
            "stroke                 int64\n",
            "dtype: object\n"
          ]
        }
      ],
      "source": [
        "print(df1.dtypes)"
      ]
    },
    {
      "cell_type": "code",
      "execution_count": 7,
      "metadata": {
        "colab": {
          "base_uri": "https://localhost:8080/"
        },
        "id": "p4rFbX8CuPr4",
        "outputId": "aacc324d-8f9f-4ec0-a35a-c8156ecf5f83"
      },
      "outputs": [
        {
          "name": "stdout",
          "output_type": "stream",
          "text": [
            "gender                 int32\n",
            "age                  float64\n",
            "hypertension         float64\n",
            "heart_disease        float64\n",
            "ever_married           int32\n",
            "work_type              int32\n",
            "Residence_type         int32\n",
            "avg_glucose_level    float64\n",
            "bmi                  float64\n",
            "smoking_status         int32\n",
            "stroke                 int64\n",
            "dtype: object\n"
          ]
        }
      ],
      "source": [
        "#encode\n",
        "\n",
        "from sklearn.preprocessing import LabelEncoder\n",
        "le = LabelEncoder()\n",
        "\n",
        "df1['gender']=le.fit_transform(df1['gender'])\n",
        "df1['ever_married']=le.fit_transform(df1['ever_married'])\n",
        "df1['work_type']=le.fit_transform(df1['work_type'])\n",
        "df1['Residence_type']=le.fit_transform(df1['Residence_type'])\n",
        "df1['smoking_status']=le.fit_transform(df1['smoking_status'])\n",
        "\n",
        "print(df1.dtypes)\n",
        "\n",
        "\n"
      ]
    },
    {
      "cell_type": "code",
      "execution_count": 8,
      "metadata": {
        "colab": {
          "base_uri": "https://localhost:8080/"
        },
        "id": "jFuc7FqsxNch",
        "outputId": "4c08852f-6e5d-400e-f74b-fff2a94bf17f"
      },
      "outputs": [
        {
          "data": {
            "text/plain": [
              "Index(['gender', 'age', 'hypertension', 'heart_disease', 'ever_married',\n",
              "       'work_type', 'Residence_type', 'avg_glucose_level', 'bmi',\n",
              "       'smoking_status', 'stroke'],\n",
              "      dtype='object')"
            ]
          },
          "execution_count": 8,
          "metadata": {},
          "output_type": "execute_result"
        }
      ],
      "source": [
        "df1.columns"
      ]
    },
    {
      "cell_type": "code",
      "execution_count": 9,
      "metadata": {
        "colab": {
          "base_uri": "https://localhost:8080/",
          "height": 175
        },
        "id": "3wyQMWmxx036",
        "outputId": "1b553689-1f15-4e6d-9305-426814f65dbc"
      },
      "outputs": [
        {
          "data": {
            "text/html": [
              "<div>\n",
              "<style scoped>\n",
              "    .dataframe tbody tr th:only-of-type {\n",
              "        vertical-align: middle;\n",
              "    }\n",
              "\n",
              "    .dataframe tbody tr th {\n",
              "        vertical-align: top;\n",
              "    }\n",
              "\n",
              "    .dataframe thead th {\n",
              "        text-align: right;\n",
              "    }\n",
              "</style>\n",
              "<table border=\"1\" class=\"dataframe\">\n",
              "  <thead>\n",
              "    <tr style=\"text-align: right;\">\n",
              "      <th></th>\n",
              "      <th>gender</th>\n",
              "      <th>age</th>\n",
              "      <th>hypertension</th>\n",
              "      <th>heart_disease</th>\n",
              "      <th>ever_married</th>\n",
              "      <th>work_type</th>\n",
              "      <th>Residence_type</th>\n",
              "      <th>avg_glucose_level</th>\n",
              "      <th>bmi</th>\n",
              "      <th>smoking_status</th>\n",
              "      <th>stroke</th>\n",
              "    </tr>\n",
              "  </thead>\n",
              "  <tbody>\n",
              "    <tr>\n",
              "      <th>0</th>\n",
              "      <td>0</td>\n",
              "      <td>42.0</td>\n",
              "      <td>0.0</td>\n",
              "      <td>0.0</td>\n",
              "      <td>1</td>\n",
              "      <td>1</td>\n",
              "      <td>0</td>\n",
              "      <td>84.60</td>\n",
              "      <td>27.0</td>\n",
              "      <td>3</td>\n",
              "      <td>0</td>\n",
              "    </tr>\n",
              "    <tr>\n",
              "      <th>1</th>\n",
              "      <td>1</td>\n",
              "      <td>77.0</td>\n",
              "      <td>0.0</td>\n",
              "      <td>0.0</td>\n",
              "      <td>1</td>\n",
              "      <td>1</td>\n",
              "      <td>1</td>\n",
              "      <td>94.68</td>\n",
              "      <td>33.6</td>\n",
              "      <td>0</td>\n",
              "      <td>0</td>\n",
              "    </tr>\n",
              "    <tr>\n",
              "      <th>2</th>\n",
              "      <td>0</td>\n",
              "      <td>57.0</td>\n",
              "      <td>0.0</td>\n",
              "      <td>0.0</td>\n",
              "      <td>1</td>\n",
              "      <td>0</td>\n",
              "      <td>1</td>\n",
              "      <td>110.52</td>\n",
              "      <td>28.5</td>\n",
              "      <td>0</td>\n",
              "      <td>1</td>\n",
              "    </tr>\n",
              "    <tr>\n",
              "      <th>3</th>\n",
              "      <td>1</td>\n",
              "      <td>8.0</td>\n",
              "      <td>0.0</td>\n",
              "      <td>0.0</td>\n",
              "      <td>0</td>\n",
              "      <td>3</td>\n",
              "      <td>1</td>\n",
              "      <td>118.66</td>\n",
              "      <td>16.1</td>\n",
              "      <td>0</td>\n",
              "      <td>0</td>\n",
              "    </tr>\n",
              "  </tbody>\n",
              "</table>\n",
              "</div>"
            ],
            "text/plain": [
              "   gender   age  hypertension  heart_disease  ever_married  work_type  \\\n",
              "0       0  42.0           0.0            0.0             1          1   \n",
              "1       1  77.0           0.0            0.0             1          1   \n",
              "2       0  57.0           0.0            0.0             1          0   \n",
              "3       1   8.0           0.0            0.0             0          3   \n",
              "\n",
              "   Residence_type  avg_glucose_level   bmi  smoking_status  stroke  \n",
              "0               0              84.60  27.0               3       0  \n",
              "1               1              94.68  33.6               0       0  \n",
              "2               1             110.52  28.5               0       1  \n",
              "3               1             118.66  16.1               0       0  "
            ]
          },
          "execution_count": 9,
          "metadata": {},
          "output_type": "execute_result"
        }
      ],
      "source": [
        "df1.head(4)"
      ]
    },
    {
      "cell_type": "code",
      "execution_count": 10,
      "metadata": {
        "colab": {
          "base_uri": "https://localhost:8080/",
          "height": 175
        },
        "id": "C9mdqZUVv2d6",
        "outputId": "90352d62-ae6d-47fe-a9e9-8fed05c1a44a"
      },
      "outputs": [
        {
          "data": {
            "text/html": [
              "<div>\n",
              "<style scoped>\n",
              "    .dataframe tbody tr th:only-of-type {\n",
              "        vertical-align: middle;\n",
              "    }\n",
              "\n",
              "    .dataframe tbody tr th {\n",
              "        vertical-align: top;\n",
              "    }\n",
              "\n",
              "    .dataframe thead th {\n",
              "        text-align: right;\n",
              "    }\n",
              "</style>\n",
              "<table border=\"1\" class=\"dataframe\">\n",
              "  <thead>\n",
              "    <tr style=\"text-align: right;\">\n",
              "      <th></th>\n",
              "      <th>gender</th>\n",
              "      <th>age</th>\n",
              "      <th>hypertension</th>\n",
              "      <th>heart_disease</th>\n",
              "      <th>ever_married</th>\n",
              "      <th>work_type</th>\n",
              "      <th>Residence_type</th>\n",
              "      <th>avg_glucose_level</th>\n",
              "      <th>bmi</th>\n",
              "      <th>smoking_status</th>\n",
              "      <th>stroke</th>\n",
              "    </tr>\n",
              "  </thead>\n",
              "  <tbody>\n",
              "    <tr>\n",
              "      <th>0</th>\n",
              "      <td>0</td>\n",
              "      <td>-0.062545</td>\n",
              "      <td>0.0</td>\n",
              "      <td>0.0</td>\n",
              "      <td>1</td>\n",
              "      <td>1</td>\n",
              "      <td>0</td>\n",
              "      <td>-0.474482</td>\n",
              "      <td>-0.218898</td>\n",
              "      <td>3</td>\n",
              "      <td>0</td>\n",
              "    </tr>\n",
              "    <tr>\n",
              "      <th>1</th>\n",
              "      <td>1</td>\n",
              "      <td>1.482195</td>\n",
              "      <td>0.0</td>\n",
              "      <td>0.0</td>\n",
              "      <td>1</td>\n",
              "      <td>1</td>\n",
              "      <td>1</td>\n",
              "      <td>-0.251349</td>\n",
              "      <td>0.752515</td>\n",
              "      <td>0</td>\n",
              "      <td>0</td>\n",
              "    </tr>\n",
              "    <tr>\n",
              "      <th>2</th>\n",
              "      <td>0</td>\n",
              "      <td>0.599487</td>\n",
              "      <td>0.0</td>\n",
              "      <td>0.0</td>\n",
              "      <td>1</td>\n",
              "      <td>0</td>\n",
              "      <td>1</td>\n",
              "      <td>0.099288</td>\n",
              "      <td>0.001878</td>\n",
              "      <td>0</td>\n",
              "      <td>1</td>\n",
              "    </tr>\n",
              "    <tr>\n",
              "      <th>3</th>\n",
              "      <td>1</td>\n",
              "      <td>-1.563148</td>\n",
              "      <td>0.0</td>\n",
              "      <td>0.0</td>\n",
              "      <td>0</td>\n",
              "      <td>3</td>\n",
              "      <td>1</td>\n",
              "      <td>0.279476</td>\n",
              "      <td>-1.823200</td>\n",
              "      <td>0</td>\n",
              "      <td>0</td>\n",
              "    </tr>\n",
              "  </tbody>\n",
              "</table>\n",
              "</div>"
            ],
            "text/plain": [
              "   gender       age  hypertension  heart_disease  ever_married  work_type  \\\n",
              "0       0 -0.062545           0.0            0.0             1          1   \n",
              "1       1  1.482195           0.0            0.0             1          1   \n",
              "2       0  0.599487           0.0            0.0             1          0   \n",
              "3       1 -1.563148           0.0            0.0             0          3   \n",
              "\n",
              "   Residence_type  avg_glucose_level       bmi  smoking_status  stroke  \n",
              "0               0          -0.474482 -0.218898               3       0  \n",
              "1               1          -0.251349  0.752515               0       0  \n",
              "2               1           0.099288  0.001878               0       1  \n",
              "3               1           0.279476 -1.823200               0       0  "
            ]
          },
          "execution_count": 10,
          "metadata": {},
          "output_type": "execute_result"
        }
      ],
      "source": [
        "#scalling\n",
        "\n",
        "from sklearn.preprocessing import StandardScaler\n",
        "\n",
        "scaler = StandardScaler()\n",
        "\n",
        "df1[['age', 'avg_glucose_level', 'bmi']] = scaler.fit_transform(df1[['age', 'avg_glucose_level', 'bmi']])\n",
        "df1.head(4)"
      ]
    },
    {
      "cell_type": "code",
      "execution_count": 11,
      "metadata": {
        "colab": {
          "base_uri": "https://localhost:8080/"
        },
        "id": "pGo0N8r0yCRe",
        "outputId": "5648acc9-ec2c-48a3-f50c-22deb70a7904"
      },
      "outputs": [
        {
          "name": "stdout",
          "output_type": "stream",
          "text": [
            "(4906, 10)\n",
            "(4906,)\n"
          ]
        }
      ],
      "source": [
        "#removing stroke from feature \n",
        "\n",
        "x = df1.drop('stroke', axis=1)\n",
        "y=df1['stroke']\n",
        "\n",
        "print(x.shape)\n",
        "print(y.shape)"
      ]
    },
    {
      "cell_type": "code",
      "execution_count": 12,
      "metadata": {
        "id": "QKaHwezPyqAq"
      },
      "outputs": [],
      "source": [
        "#test_size=0.2           #how many we want to test\n",
        "#random_state=42         #ensures that after split, whatever is in the test remains there and same for train,......thus ensuring consistency\n",
        "                        #controls shuffling\n",
        "import random\n",
        "\n",
        "\n",
        "test_size=(random.randint(1,50))/100\n",
        "\n",
        "random_state=(random.randint(1,50))"
      ]
    },
    {
      "cell_type": "code",
      "execution_count": 13,
      "metadata": {
        "colab": {
          "base_uri": "https://localhost:8080/"
        },
        "id": "Q9h9_z2vzAVZ",
        "outputId": "42f49868-797c-41ba-c17d-d18fbcea9d41"
      },
      "outputs": [
        {
          "name": "stdout",
          "output_type": "stream",
          "text": [
            "(3139, 10)\n",
            "(3139,)\n",
            "(1767, 10)\n",
            "(1767,)\n"
          ]
        }
      ],
      "source": [
        "#KNN\n",
        "\n",
        "from sklearn.model_selection import train_test_split\n",
        "\n",
        "x_train, x_test, y_train, y_test = train_test_split(x,y, test_size=test_size, random_state=random_state)\n",
        "\n",
        "print(x_train.shape)\n",
        "print(y_train.shape)\n",
        "\n",
        "print(x_test.shape)\n",
        "print(y_test.shape)"
      ]
    },
    {
      "cell_type": "code",
      "execution_count": 14,
      "metadata": {
        "id": "lYuO8YbR0pi-"
      },
      "outputs": [],
      "source": [
        "#model building\n",
        "\n",
        "from sklearn.neighbors import KNeighborsClassifier\n",
        "\n",
        "knn= KNeighborsClassifier()\n",
        "\n",
        "knn.fit(x_train, y_train)\n",
        "knn_pred=knn.predict(x_test)\n"
      ]
    },
    {
      "cell_type": "code",
      "execution_count": 15,
      "metadata": {
        "colab": {
          "base_uri": "https://localhost:8080/"
        },
        "id": "dPcTLl711W9q",
        "outputId": "a507b11e-f832-45ce-aed4-37c97e17808a"
      },
      "outputs": [
        {
          "name": "stdout",
          "output_type": "stream",
          "text": [
            "[[1668   12]\n",
            " [  85    2]]\n"
          ]
        }
      ],
      "source": [
        "from sklearn.metrics import confusion_matrix\n",
        "\n",
        "cm_knn= confusion_matrix(y_test, knn_pred)\n",
        "print(cm_knn)"
      ]
    },
    {
      "cell_type": "code",
      "execution_count": 18,
      "metadata": {
        "colab": {
          "base_uri": "https://localhost:8080/",
          "height": 574
        },
        "id": "Q6mf9Ejz2LGo",
        "outputId": "d042bd2a-b319-4fac-a45b-2b21df002fe6"
      },
      "outputs": [
        {
          "data": {
            "image/png": "[encoded data removed]",
            "text/plain": [
              "<Figure size 1000x1000 with 2 Axes>"
            ]
          },
          "metadata": {},
          "output_type": "display_data"
        }
      ],
      "source": [
        "import matplotlib.pyplot as plt\n",
        "import seaborn as sns\n",
        "\n",
        "plt.figure(figsize=(10,10))\n",
        "sns.heatmap(cm_knn, annot=True, fmt=\"d\",linewidths=0.5, square=True, cmap='Blues_r')\n",
        "plt.ylabel(\"Actual\")\n",
        "plt.xlabel(\"predicted\")\n",
        "plt.show()"
      ]
    },
    {
      "cell_type": "code",
      "execution_count": 19,
      "metadata": {
        "colab": {
          "base_uri": "https://localhost:8080/"
        },
        "id": "xEGmwmh95ZVw",
        "outputId": "9d66e3e6-b23a-4ebe-9fa8-11cb117f229a"
      },
      "outputs": [
        {
          "name": "stdout",
          "output_type": "stream",
          "text": [
            "              precision    recall  f1-score   support\n",
            "\n",
            "           0       0.95      0.99      0.97      1680\n",
            "           1       0.14      0.02      0.04        87\n",
            "\n",
            "    accuracy                           0.95      1767\n",
            "   macro avg       0.55      0.51      0.51      1767\n",
            "weighted avg       0.91      0.95      0.93      1767\n",
            "\n"
          ]
        }
      ],
      "source": [
        "from sklearn.metrics import classification_report\n",
        "print(classification_report(y_test, knn_pred))"
      ]
    },
    {
      "cell_type": "code",
      "execution_count": 20,
      "metadata": {
        "colab": {
          "base_uri": "https://localhost:8080/"
        },
        "id": "asGfFJqE567L",
        "outputId": "db56d014-1caf-405a-fddf-e11b1029a7ed"
      },
      "outputs": [
        {
          "name": "stdout",
          "output_type": "stream",
          "text": [
            "0.9423076923076923\n"
          ]
        }
      ],
      "source": [
        "print((832+1)/(832+1+50+1))"
      ]
    },
    {
      "cell_type": "code",
      "execution_count": 22,
      "metadata": {
        "colab": {
          "base_uri": "https://localhost:8080/"
        },
        "id": "WSy-SJII8M7d",
        "outputId": "f1add10c-5273-473e-e224-0f3b18cf8f15"
      },
      "outputs": [
        {
          "name": "stdout",
          "output_type": "stream",
          "text": [
            "Epoch 1/10\n",
            "99/99 [==============================] - 1s 6ms/step - loss: 0.5379 - accuracy: 0.6875 - val_loss: 0.2083 - val_accuracy: 0.9508\n",
            "Epoch 2/10\n",
            "99/99 [==============================] - 0s 4ms/step - loss: 0.1963 - accuracy: 0.9487 - val_loss: 0.1824 - val_accuracy: 0.9508\n",
            "Epoch 3/10\n",
            "99/99 [==============================] - 0s 3ms/step - loss: 0.1830 - accuracy: 0.9487 - val_loss: 0.1737 - val_accuracy: 0.9508\n",
            "Epoch 4/10\n",
            "99/99 [==============================] - 0s 3ms/step - loss: 0.1752 - accuracy: 0.9487 - val_loss: 0.1686 - val_accuracy: 0.9508\n",
            "Epoch 5/10\n",
            "99/99 [==============================] - 0s 3ms/step - loss: 0.1710 - accuracy: 0.9487 - val_loss: 0.1660 - val_accuracy: 0.9508\n",
            "Epoch 6/10\n",
            "99/99 [==============================] - 0s 3ms/step - loss: 0.1677 - accuracy: 0.9487 - val_loss: 0.1655 - val_accuracy: 0.9508\n",
            "Epoch 7/10\n",
            "99/99 [==============================] - 0s 4ms/step - loss: 0.1656 - accuracy: 0.9487 - val_loss: 0.1628 - val_accuracy: 0.9508\n",
            "Epoch 8/10\n",
            "99/99 [==============================] - 0s 3ms/step - loss: 0.1640 - accuracy: 0.9487 - val_loss: 0.1618 - val_accuracy: 0.9508\n",
            "Epoch 9/10\n",
            "99/99 [==============================] - 0s 3ms/step - loss: 0.1627 - accuracy: 0.9487 - val_loss: 0.1615 - val_accuracy: 0.9508\n",
            "Epoch 10/10\n",
            "99/99 [==============================] - 0s 4ms/step - loss: 0.1615 - accuracy: 0.9487 - val_loss: 0.1612 - val_accuracy: 0.9508\n"
          ]
        }
      ],
      "source": [
        "#ANN\n",
        "\n",
        "from tensorflow.keras.models import Sequential\n",
        "from tensorflow.keras.layers import Dense \n",
        "\n",
        "\"\"\"\n",
        "2 hidden 10\n",
        "1 out 1\n",
        "1 in 10\n",
        "\n",
        "\"\"\"\n",
        "\n",
        "model = Sequential()\n",
        "model.add(Dense(10,activation='relu'))\n",
        "model.add(Dense(10,activation='relu'))\n",
        "model.add(Dense(10,activation='relu'))\n",
        "model.add(Dense(2,activation='softmax'))\n",
        "\n",
        "model.compile(optimizer='adam', loss='sparse_categorical_crossentropy', metrics=['accuracy'])\n",
        "\n",
        "history= model.fit(x_train, y_train, epochs=10, validation_data=(x_test, y_test))\n"
      ]
    },
    {
      "cell_type": "code",
      "execution_count": 23,
      "metadata": {
        "id": "-sLvNzuK-HAP"
      },
      "outputs": [
        {
          "data": {
            "text/plain": [
              "[<matplotlib.lines.Line2D at 0x1adc1a9fac0>]"
            ]
          },
          "execution_count": 23,
          "metadata": {},
          "output_type": "execute_result"
        },
        {
          "data": {
            "image/png": "[encoded data removed]",
            "text/plain": [
              "<Figure size 640x480 with 1 Axes>"
            ]
          },
          "metadata": {},
          "output_type": "display_data"
        }
      ],
      "source": [
        "plt.plot(history.history['loss'],label='loss')\n",
        "plt.plot(history.history['val_loss'],label='val_loss')"
      ]
    }
  ],
  "metadata": {
    "colab": {
      "provenance": []
    },
    "kernelspec": {
      "display_name": "Python 3.10.8 64-bit",
      "language": "python",
      "name": "python3"
    },
    "language_info": {
      "codemirror_mode": {
        "name": "ipython",
        "version": 3
      },
      "file_extension": ".py",
      "mimetype": "text/x-python",
      "name": "python",
      "nbconvert_exporter": "python",
      "pygments_lexer": "ipython3",
      "version": "3.10.8"
    },
    "vscode": {
      "interpreter": {
        "hash": "55105d4b3a20a9d86acf981300221e9b42d45ff1b54a5f3bb34aa360c291dca9"
      }
    }
  },
  "nbformat": 4,
  "nbformat_minor": 0
}
